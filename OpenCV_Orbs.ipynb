{
  "nbformat": 4,
  "nbformat_minor": 0,
  "metadata": {
    "colab": {
      "provenance": [],
      "authorship_tag": "ABX9TyNMlmg8eeTDVEizMiDC5yH8",
      "include_colab_link": true
    },
    "kernelspec": {
      "name": "python3",
      "display_name": "Python 3"
    },
    "language_info": {
      "name": "python"
    },
    "accelerator": "GPU",
    "gpuClass": "standard"
  },
  "cells": [
    {
      "cell_type": "markdown",
      "metadata": {
        "id": "view-in-github",
        "colab_type": "text"
      },
      "source": [
        "<a href=\"https://colab.research.google.com/github/derek-perdomo/OpenCV_Object_Tracking/blob/main/OpenCV_Orbs.ipynb\" target=\"_parent\"><img src=\"https://colab.research.google.com/assets/colab-badge.svg\" alt=\"Open In Colab\"/></a>"
      ]
    },
    {
      "cell_type": "code",
      "execution_count": 1,
      "metadata": {
        "colab": {
          "base_uri": "https://localhost:8080/",
          "height": 275
        },
        "id": "we3KDZdITSIu",
        "outputId": "cb1f58d7-9282-48d6-95df-2ba51ee48e34"
      },
      "outputs": [
        {
          "output_type": "error",
          "ename": "error",
          "evalue": "ignored",
          "traceback": [
            "\u001b[0;31m---------------------------------------------------------------------------\u001b[0m",
            "\u001b[0;31merror\u001b[0m                                     Traceback (most recent call last)",
            "\u001b[0;32m<ipython-input-1-f1abb6d118a5>\u001b[0m in \u001b[0;36m<cell line: 31>\u001b[0;34m()\u001b[0m\n\u001b[1;32m     29\u001b[0m \u001b[0;31m# Estimate the 3D location of the object\u001b[0m\u001b[0;34m\u001b[0m\u001b[0;34m\u001b[0m\u001b[0m\n\u001b[1;32m     30\u001b[0m \u001b[0mobject_points\u001b[0m \u001b[0;34m=\u001b[0m \u001b[0mnp\u001b[0m\u001b[0;34m.\u001b[0m\u001b[0marray\u001b[0m\u001b[0;34m(\u001b[0m\u001b[0;34m[\u001b[0m\u001b[0;34m[\u001b[0m\u001b[0;36m0\u001b[0m\u001b[0;34m,\u001b[0m \u001b[0;36m0\u001b[0m\u001b[0;34m,\u001b[0m \u001b[0;36m0\u001b[0m\u001b[0;34m]\u001b[0m\u001b[0;34m]\u001b[0m\u001b[0;34m,\u001b[0m \u001b[0mdtype\u001b[0m\u001b[0;34m=\u001b[0m\u001b[0mnp\u001b[0m\u001b[0;34m.\u001b[0m\u001b[0mfloat32\u001b[0m\u001b[0;34m)\u001b[0m  \u001b[0;31m# object's 3D location (in this case, assumed to be at (0,0,0))\u001b[0m\u001b[0;34m\u001b[0m\u001b[0;34m\u001b[0m\u001b[0m\n\u001b[0;32m---> 31\u001b[0;31m \u001b[0mrvecs\u001b[0m\u001b[0;34m,\u001b[0m \u001b[0mtvecs\u001b[0m\u001b[0;34m,\u001b[0m \u001b[0m_\u001b[0m \u001b[0;34m=\u001b[0m \u001b[0mcv2\u001b[0m\u001b[0;34m.\u001b[0m\u001b[0msolvePnP\u001b[0m\u001b[0;34m(\u001b[0m\u001b[0mobject_points\u001b[0m\u001b[0;34m,\u001b[0m \u001b[0mimage_points\u001b[0m\u001b[0;34m,\u001b[0m \u001b[0mcamera_matrix\u001b[0m\u001b[0;34m,\u001b[0m \u001b[0mdist_coeffs\u001b[0m\u001b[0;34m)\u001b[0m\u001b[0;34m\u001b[0m\u001b[0;34m\u001b[0m\u001b[0m\n\u001b[0m\u001b[1;32m     32\u001b[0m \u001b[0;34m\u001b[0m\u001b[0m\n\u001b[1;32m     33\u001b[0m \u001b[0;31m# Print the estimated 3D location of the object\u001b[0m\u001b[0;34m\u001b[0m\u001b[0;34m\u001b[0m\u001b[0m\n",
            "\u001b[0;31merror\u001b[0m: OpenCV(4.7.0) /io/opencv/modules/calib3d/src/solvepnp.cpp:838: error: (-215:Assertion failed) ( (npoints >= 4) || (npoints == 3 && flags == SOLVEPNP_ITERATIVE && useExtrinsicGuess) || (npoints >= 3 && flags == SOLVEPNP_SQPNP) ) && npoints == std::max(ipoints.checkVector(2, CV_32F), ipoints.checkVector(2, CV_64F)) in function 'solvePnPGeneric'\n"
          ]
        }
      ],
      "source": [
        "import cv2\n",
        "import numpy as np\n",
        "\n",
        "# Load the RGB image\n",
        "image = cv2.imread('image.jpg')\n",
        "\n",
        "# Perform object detection to obtain the bounding box coordinates\n",
        "# and extract the object's region of interest (ROI)\n",
        "# Replace this step with your own object detection algorithm\n",
        "# if you have one\n",
        "bbox = [100, 200, 300, 400]  # example bounding box coordinates (x, y, w, h)\n",
        "roi = image[bbox[1]:bbox[1]+bbox[3], bbox[0]:bbox[0]+bbox[2]]\n",
        "\n",
        "# Perform feature extraction using ORB on the ROI\n",
        "# Replace this step with your own feature extraction algorithm\n",
        "# if you have one\n",
        "orb = cv2.ORB_create()\n",
        "keypoints, descriptors = orb.detectAndCompute(roi, None)\n",
        "\n",
        "# Convert the keypoints to image points\n",
        "image_points = np.float32([kp.pt for kp in keypoints])\n",
        "\n",
        "# Perform camera calibration to obtain the camera matrix and distortion coefficients\n",
        "# Replace this step with your own camera calibration method\n",
        "# if you have one\n",
        "camera_matrix = np.array([[1.0, 0.0, 0.0], [0.0, 1.0, 0.0], [0.0, 0.0, 1.0]])\n",
        "dist_coeffs = np.zeros((4, 1))\n",
        "\n",
        "# Estimate the 3D location of the object\n",
        "object_points = np.array([[0, 0, 0]], dtype=np.float32)  # object's 3D location (in this case, assumed to be at (0,0,0))\n",
        "rvecs, tvecs, _ = cv2.solvePnP(object_points, image_points, camera_matrix, dist_coeffs)\n",
        "\n",
        "# Print the estimated 3D location of the object\n",
        "print(\"Estimated 3D Location (X, Y, Z):\")\n",
        "print(tvecs)"
      ]
    }
  ]
}