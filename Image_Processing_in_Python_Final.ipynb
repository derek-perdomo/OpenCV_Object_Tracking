{
  "nbformat": 4,
  "nbformat_minor": 0,
  "metadata": {
    "colab": {
      "name": "Image Processing in Python_Final.ipynb",
      "provenance": [],
      "include_colab_link": true
    },
    "kernelspec": {
      "name": "python3",
      "display_name": "Python 3"
    },
    "accelerator": "GPU",
    "gpuClass": "standard"
  },
  "cells": [
    {
      "cell_type": "markdown",
      "metadata": {
        "id": "view-in-github",
        "colab_type": "text"
      },
      "source": [
        "<a href=\"https://colab.research.google.com/github/derek-perdomo/OpenCV_Object_Tracking/blob/main/Image_Processing_in_Python_Final.ipynb\" target=\"_parent\"><img src=\"https://colab.research.google.com/assets/colab-badge.svg\" alt=\"Open In Colab\"/></a>"
      ]
    },
    {
      "cell_type": "code",
      "metadata": {
        "id": "6dy-iP-VTibt"
      },
      "source": [
        "import numpy as np\n",
        "import pandas as pd\n",
        "import cv2 \n",
        "from google.colab.patches import cv2_imshow # for image display\n",
        "from skimage import io\n",
        "from PIL import Image \n",
        "import matplotlib.pylab as plt\n",
        "import sys"
      ],
      "execution_count": 6,
      "outputs": []
    },
    {
      "cell_type": "code",
      "source": [
        "tracker_types = ['BOOSTING', 'MIL','KCF', 'TLD', 'MEDIANFLOW', 'GOTURN', 'MOSSE', 'CSRT']\n",
        "tracker_type = tracker_types[7]\n",
        "(major_ver, minor_ver, subminor_ver) = (cv2.__version__).split('.')\n",
        "\n",
        "if int(minor_ver) < 3:\n",
        "    tracker = cv2.Tracker_create(tracker_type)\n",
        "else:\n",
        "    if tracker_type == 'BOOSTING':\n",
        "        tracker = cv2.TrackerBoosting_create()\n",
        "    elif tracker_type == 'MIL':\n",
        "        tracker = cv2.TrackerMIL_create()\n",
        "    elif tracker_type == 'KCF':\n",
        "        tracker = cv2.TrackerKCF_create()\n",
        "    elif tracker_type == 'TLD':\n",
        "        tracker = cv2.TrackerTLD_create()\n",
        "    elif tracker_type == 'MEDIANFLOW':\n",
        "        tracker = cv2.TrackerMedianFlow_create()\n",
        "    elif tracker_type == 'GOTURN':\n",
        "          tracker = cv2.TrackerGOTURN_create()\n",
        "    elif tracker_type == 'MOSSE':\n",
        "        tracker = cv2.TrackerMOSSE_create()\n",
        "    elif tracker_type == \"CSRT\":\n",
        "        tracker = cv2.TrackerCSRT_create()"
      ],
      "metadata": {
        "id": "3BjgUxs-3P8K"
      },
      "execution_count": 7,
      "outputs": []
    },
    {
      "cell_type": "code",
      "source": [
        "# Read video\n",
        "video = cv2.VideoCapture(\"Kinova_720_short.mp4\")\n",
        "#video = cv2.VideoCapture(0) # for using CAM\n",
        "\n",
        "# Exit if video not opened.\n",
        "if not video.isOpened():\n",
        "  print(\"Could not open video\")\n",
        "  sys.exit()\n",
        "\n",
        "# Read first frame.\n",
        "ok, frame = video.read()\n",
        "if not ok:\n",
        "  print ('Cannot read video file')\n",
        "  sys.exit()"
      ],
      "metadata": {
        "id": "uyKTC3Eq30mh"
      },
      "execution_count": 8,
      "outputs": []
    },
    {
      "cell_type": "code",
      "source": [
        "# Define an initial bounding box\n",
        "bbox = (287, 23, 86, 320)\n",
        "\n",
        "# Uncomment the line below to select a different bounding box\n",
        "#bbox = cv2.selectROI(frame, False)\n",
        "\n",
        "# Initialize tracker with first frame and bounding box\n",
        "ok = tracker.init(frame, bbox)"
      ],
      "metadata": {
        "id": "HrVMtppX4roo"
      },
      "execution_count": 9,
      "outputs": []
    },
    {
      "cell_type": "code",
      "source": [
        "while True:\n",
        "     # Read a new frame\n",
        "     ok, frame = video.read()\n",
        "     if not ok:\n",
        "         break\n",
        "      \n",
        "     # Start timer\n",
        "     timer = cv2.getTickCount()\n",
        "\n",
        "     # Update tracker\n",
        "     ok, bbox = tracker.update(frame)\n",
        "\n",
        "     # Calculate Frames per second (FPS)\n",
        "     fps = cv2.getTickFrequency() / (cv2.getTickCount() - timer);\n",
        "\n",
        "     # Draw bounding box\n",
        "     if ok:\n",
        "         # Tracking success\n",
        "         p1 = (int(bbox[0]), int(bbox[1]))\n",
        "         p2 = (int(bbox[0] + bbox[2]), int(bbox[1] + bbox[3]))\n",
        "         cv2.rectangle(frame, p1, p2, (255,0,0), 2, 1)\n",
        "     else :\n",
        "         # Tracking failure\n",
        "         cv2.putText(frame, \"Tracking failure detected\", (100,80), cv2.FONT_HERSHEY_SIMPLEX, 0.75,(0,0,255),2)\n",
        "\n",
        "     # Display tracker type on frame\n",
        "     cv2.putText(frame, tracker_type + \" Tracker\", (100,20), cv2.FONT_HERSHEY_SIMPLEX, 0.75, (50,170,50),2);\n",
        "  \n",
        "     # Display FPS on frame\n",
        "     cv2.putText(frame, \"FPS : \" + str(int(fps)), (100,50), cv2.FONT_HERSHEY_SIMPLEX, 0.75, (50,170,50), 2);\n",
        "     # Display result\n",
        "     cv2.imshow(frame)\n",
        "\n",
        "     # Exit if ESC pressed\n",
        "     if cv2.waitKey(1) & 0xFF == ord('q'): # if press SPACE bar\n",
        "         break\n",
        "\n",
        "video.release()\n",
        "cv2.destroyAllWindows()"
      ],
      "metadata": {
        "id": "m4TiEbNG4Mvw"
      },
      "execution_count": null,
      "outputs": []
    }
  ]
}